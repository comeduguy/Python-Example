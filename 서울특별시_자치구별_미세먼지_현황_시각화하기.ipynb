{
  "nbformat": 4,
  "nbformat_minor": 0,
  "metadata": {
    "colab": {
      "name": "서울특별시 자치구별 미세먼지 현황 시각화하기",
      "provenance": [],
      "toc_visible": true,
      "authorship_tag": "ABX9TyMJk26YaLdsnrIr46YdBg+R",
      "include_colab_link": true
    },
    "kernelspec": {
      "name": "python3",
      "display_name": "Python 3"
    },
    "language_info": {
      "name": "python"
    },
    "accelerator": "TPU"
  },
  "cells": [
    {
      "cell_type": "markdown",
      "metadata": {
        "id": "view-in-github",
        "colab_type": "text"
      },
      "source": [
        "<a href=\"https://colab.research.google.com/github/comeduguy/Python-Example/blob/master/%EC%84%9C%EC%9A%B8%ED%8A%B9%EB%B3%84%EC%8B%9C_%EC%9E%90%EC%B9%98%EA%B5%AC%EB%B3%84_%EB%AF%B8%EC%84%B8%EB%A8%BC%EC%A7%80_%ED%98%84%ED%99%A9_%EC%8B%9C%EA%B0%81%ED%99%94%ED%95%98%EA%B8%B0.ipynb\" target=\"_parent\"><img src=\"https://colab.research.google.com/assets/colab-badge.svg\" alt=\"Open In Colab\"/></a>"
      ]
    },
    {
      "cell_type": "markdown",
      "metadata": {
        "id": "bpR7380xS8bH"
      },
      "source": [
        "# 1. 데이터 준비\n",
        "[서울시 권역별 실시간 대기환경 현황](http://data.seoul.go.kr/dataList/OA-2219/S/1/datasetView.do)"
      ]
    },
    {
      "cell_type": "markdown",
      "metadata": {
        "id": "ovm42eMQ3Bif"
      },
      "source": [
        "##가. json 파일 다운로드 및 Colab 업로드\n",
        "- 예시파일은 2021년 3월 30일 12:00 데이터\n",
        "- 파일명을 ori_data.json으로 변경 후 업로드"
      ]
    },
    {
      "cell_type": "code",
      "metadata": {
        "id": "3g5Bpl8oSrZ-"
      },
      "source": [
        "# 파일 업로드하기(json)\n",
        "from google.colab import files\n",
        "uploaded = files.upload()"
      ],
      "execution_count": null,
      "outputs": []
    },
    {
      "cell_type": "markdown",
      "metadata": {
        "id": "1heZAlLic0Cr"
      },
      "source": [
        "##나. JSON 파일 분석\n"
      ]
    },
    {
      "cell_type": "code",
      "metadata": {
        "id": "W48wHK76VrPd"
      },
      "source": [
        "# json 파일을 다루기 위해 json 모듈 import\n",
        "import json"
      ],
      "execution_count": null,
      "outputs": []
    },
    {
      "cell_type": "code",
      "metadata": {
        "id": "p8CaIQW9Zcwe"
      },
      "source": [
        "# 파일 읽기\n",
        "file_json = open('ori_data.json', 'r')\n",
        "\n",
        "data_json = json.load(file_json)"
      ],
      "execution_count": null,
      "outputs": []
    },
    {
      "cell_type": "code",
      "metadata": {
        "id": "XYe5zbrFZxcs"
      },
      "source": [
        "print(data_json)"
      ],
      "execution_count": null,
      "outputs": []
    },
    {
      "cell_type": "code",
      "metadata": {
        "id": "hw3L_FhvZzpM"
      },
      "source": [
        "# 파일 내용 분석\n",
        "print(data_json['DESCRIPTION'])\n",
        "print(data_json['DATA'])"
      ],
      "execution_count": null,
      "outputs": []
    },
    {
      "cell_type": "code",
      "metadata": {
        "id": "GlbCRn-FaCZy"
      },
      "source": [
        "for i in range(len(data_json['DATA'])):\n",
        "    print(data_json['DATA'][i]['msrste_nm'])"
      ],
      "execution_count": null,
      "outputs": []
    },
    {
      "cell_type": "markdown",
      "metadata": {
        "id": "hFovhxMrc_Rv"
      },
      "source": [
        "##다. 미세먼지 딕셔너리 만들기"
      ]
    },
    {
      "cell_type": "code",
      "metadata": {
        "id": "wvc8FGMvadJL"
      },
      "source": [
        "# 자치구별 미세먼지 농도 딕셔너리 생성\n",
        "data = {}\n",
        "\n",
        "N = len(data_json['DATA'])\n",
        "\n",
        "for i in range(N):\n",
        "    data[data_json['DATA'][i]['msrste_nm']] = data_json['DATA'][i]['pm10']\n",
        "\n",
        "print(data)"
      ],
      "execution_count": null,
      "outputs": []
    },
    {
      "cell_type": "code",
      "metadata": {
        "id": "N4vzm5YObJA-"
      },
      "source": [
        "# 자치구를 입력받아 미세먼지 농도 출력\n",
        "NM = input('미세먼지를 출력하려는 구 이름을 입력하세요.: ')\n",
        "\n",
        "print(data[NM])"
      ],
      "execution_count": null,
      "outputs": []
    },
    {
      "cell_type": "code",
      "metadata": {
        "id": "UZZlOhHNcHxJ"
      },
      "source": [
        "# 구명 변경위한 csv 활용 위해 csv 모듈 import\n",
        "import csv"
      ],
      "execution_count": null,
      "outputs": []
    },
    {
      "cell_type": "markdown",
      "metadata": {
        "id": "rpZB-PRjgkVy"
      },
      "source": [
        "- 구명 영문-한글 저장 파일 [gu.csv](https://drive.google.com/file/d/1U9dm46JQ6YlLdLslW63gttMCqIOMgeEt/view?usp=sharing)\n",
        "- 파일 다운로드 후 Colab 업로드"
      ]
    },
    {
      "cell_type": "code",
      "metadata": {
        "id": "3-2VtJFzgNh-"
      },
      "source": [
        "# 자치구명 영어 매칭을 위해 파일 읽어오기\n",
        "file_csv = open('gu.csv', 'r', encoding='utf-8')\n",
        "\n",
        "gu_data = csv.reader(file_csv)"
      ],
      "execution_count": null,
      "outputs": []
    },
    {
      "cell_type": "code",
      "metadata": {
        "id": "_VK6o4klh25L"
      },
      "source": [
        "# 구별 영문명과 미세먼지 농도를 새로운 딕셔너리로 생성\n",
        "data_en = {}\n",
        "\n",
        "for row in gu_data:\n",
        "    if row[0] == '\\ufeffJongno-gu':\n",
        "        data_en['Jongno-gu'] = data[row[1]]\n",
        "    elif row[0] == 'Yeongdeungpo-gu':\n",
        "        data_en['Yeongdeungpo-gu_1_'] = data[row[1]]\n",
        "    else:\n",
        "        data_en[row[0]] = data[row[1]]\n",
        "\n",
        "print(data_en)"
      ],
      "execution_count": null,
      "outputs": []
    },
    {
      "cell_type": "markdown",
      "metadata": {
        "id": "0e4AO7_qnNK-"
      },
      "source": [
        "#2. 데이터 시각화"
      ]
    },
    {
      "cell_type": "markdown",
      "metadata": {
        "id": "Kj6DwWnWWE50"
      },
      "source": [
        "##가. SVG 파일을 활용한 데이터 시각화"
      ]
    },
    {
      "cell_type": "code",
      "metadata": {
        "id": "pm2hZ5Klkm8w"
      },
      "source": [
        "# svg 파일을 변경하기 위해 Beautifulsoup 모듈 import\n",
        "from bs4 import BeautifulSoup"
      ],
      "execution_count": null,
      "outputs": []
    },
    {
      "cell_type": "code",
      "metadata": {
        "id": "185E4ZlmnM3I"
      },
      "source": [
        "# BeautifulSoup을 이용하여 SVG 파일을 HTML 형태로 변환\n",
        "file_svg = open('Seoul_districts.svg', 'r')\n",
        "\n",
        "data_soup = BeautifulSoup(file_svg.read(), 'html.parser')\n",
        "\n",
        "print(data_soup)"
      ],
      "execution_count": null,
      "outputs": []
    },
    {
      "cell_type": "code",
      "metadata": {
        "id": "QhV33sxfrvvQ"
      },
      "source": [
        "# 자치구 채우기 색상 변경 테스트\n",
        "for row in data_soup.find_all('path'):\n",
        "    row['fill'] = \"#abcdef\"\n",
        "\n",
        "print(data_soup)"
      ],
      "execution_count": null,
      "outputs": []
    },
    {
      "cell_type": "code",
      "metadata": {
        "id": "Cl13cHqVakaT"
      },
      "source": [
        "# 색상 변경한 결과를 HTML 파일로 저장\n",
        "file_html = open('result.html', 'w')\n",
        "file_html.write(data_soup.prettify())\n",
        "file_html.close()"
      ],
      "execution_count": null,
      "outputs": []
    },
    {
      "cell_type": "markdown",
      "metadata": {
        "id": "0ASVHXY_VxbV"
      },
      "source": [
        "- 미세먼지 농도별로 색상을 구분하여 적용\n",
        "- [ColorBrewer 2.0](https://colorbrewer2.org/#type=sequential&scheme=BuGn&n=3)"
      ]
    },
    {
      "cell_type": "code",
      "metadata": {
        "id": "3QlGC6KVu5PT"
      },
      "source": [
        "# ['#fef0d9','#fdcc8a','#fc8d59','#d7301f'] 좋음 -> 매우 나쁨\n",
        "color = ['#fef0d9','#fdcc8a','#fc8d59','#d7301f']\n",
        "for row in data_soup.find_all('path'):\n",
        "    if int(data_en[row['id']]) >= 150:\n",
        "        gr = 3\n",
        "    elif int(data_en[row['id']]) >= 80:\n",
        "        gr = 2\n",
        "    elif int(data_en[row['id']]) >= 30:\n",
        "        gr = 1\n",
        "    else:\n",
        "        gr = 0\n",
        "    row['fill'] = color[gr]\n",
        "\n",
        "file_html = open('result.html', 'w')\n",
        "file_html.write(data_soup.prettify())\n",
        "file_html.close()"
      ],
      "execution_count": null,
      "outputs": []
    },
    {
      "cell_type": "markdown",
      "metadata": {
        "id": "VQMft2BwqDq4"
      },
      "source": [
        "##나. OpenAPI로 실시간 정보 시각화"
      ]
    },
    {
      "cell_type": "code",
      "metadata": {
        "id": "NTI3c3kOXOBF"
      },
      "source": [
        "# 실시간으로 정보를 조회하기 위해 requests 모듈 import\n",
        "import requests"
      ],
      "execution_count": null,
      "outputs": []
    },
    {
      "cell_type": "code",
      "metadata": {
        "id": "GPHivJqyssLY"
      },
      "source": [
        "# 실시간 정보 조회 결과를 BeautifulSoup으로 HTML 형식으로 변환\n",
        "url = 'http://openAPI.seoul.go.kr:8088/6270756b78636f6d3535466a6a4e50/xml/RealtimeCityAir/1/25/'\n",
        "\n",
        "data_response = requests.get(url)\n",
        "\n",
        "data_soup = BeautifulSoup(data_response.content, 'html.parser')\n",
        "\n",
        "print(data_soup)"
      ],
      "execution_count": null,
      "outputs": []
    },
    {
      "cell_type": "code",
      "metadata": {
        "id": "OvS2yNGTt2oy"
      },
      "source": [
        "# 자치구명과 미세먼지 농도 값으로 data 딕셔너리 생성\n",
        "PM10 = data_soup.find_all('pm10')\n",
        "MSRSTE_NM = data_soup.find_all('msrste_nm')\n",
        "\n",
        "data = {}\n",
        "\n",
        "for i in range(len(PM10)):\n",
        "    data[MSRSTE_NM[i].text] = int(PM10[i].text)\n",
        "    print(MSRSTE_NM[i].text, data[MSRSTE_NM[i].text])"
      ],
      "execution_count": null,
      "outputs": []
    },
    {
      "cell_type": "code",
      "metadata": {
        "id": "MP-G2qP7vvif"
      },
      "source": [
        "# 구별 영문명과 미세먼지 농도를 새로운 data_en 딕셔너리로 생성\n",
        "data_en = {}\n",
        "\n",
        "for row in gu_data:\n",
        "    if row[0] == '\\ufeffJongno-gu':\n",
        "        data_en['Jongno-gu'] = data[row[1]]\n",
        "    elif row[0] == 'Yeongdeungpo-gu':\n",
        "        data_en['Yeongdeungpo-gu_1_'] = data[row[1]]\n",
        "    else:\n",
        "        data_en[row[0]] = data[row[1]]\n",
        "\n",
        "print(data_en)"
      ],
      "execution_count": null,
      "outputs": []
    },
    {
      "cell_type": "code",
      "metadata": {
        "id": "9rOBeQcH1Bew"
      },
      "source": [
        "# ['#fef0d9','#fdcc8a','#fc8d59','#d7301f'] 좋음 -> 매우 나쁨\n",
        "color = ['#fef0d9','#fdcc8a','#fc8d59','#d7301f']\n",
        "\n",
        "# BeautifulSoup을 이용하여 SVG 파일을 HTML 형태로 변환\n",
        "file_svg = open('Seoul_districts.svg', 'r')\n",
        "\n",
        "data_soup = BeautifulSoup(file_svg.read(), 'html.parser')\n",
        "\n",
        "for row in data_soup.find_all('path'):\n",
        "    if int(data_en[row['id']]) >= 150:\n",
        "        gr = 3\n",
        "    elif int(data_en[row['id']]) >= 80:\n",
        "        gr = 2\n",
        "    elif int(data_en[row['id']]) >= 30:\n",
        "        gr = 1\n",
        "    else:\n",
        "        gr = 0\n",
        "    row['fill'] = color[gr]\n",
        "\n",
        "file_html = open('result.html', 'w')\n",
        "file_html.write(data_soup.prettify())\n",
        "file_html.close()"
      ],
      "execution_count": null,
      "outputs": []
    },
    {
      "cell_type": "markdown",
      "metadata": {
        "id": "ntitueWfSp3i"
      },
      "source": [
        "# 완료!!!"
      ]
    },
    {
      "cell_type": "code",
      "metadata": {
        "id": "vy6hc3saSugZ"
      },
      "source": [
        "print('Congratulations!!!!!')"
      ],
      "execution_count": null,
      "outputs": []
    }
  ]
}