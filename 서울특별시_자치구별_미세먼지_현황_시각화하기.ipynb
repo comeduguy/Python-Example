{
  "nbformat": 4,
  "nbformat_minor": 0,
  "metadata": {
    "colab": {
      "name": "서울특별시 자치구별 미세먼지 현황 시각화하기",
      "provenance": [],
      "toc_visible": true,
      "authorship_tag": "ABX9TyMTsFZ8OV8HzF+8B1Gi3pC4",
      "include_colab_link": true
    },
    "kernelspec": {
      "name": "python3",
      "display_name": "Python 3"
    },
    "language_info": {
      "name": "python"
    },
    "accelerator": "TPU"
  },
  "cells": [
    {
      "cell_type": "markdown",
      "metadata": {
        "id": "view-in-github",
        "colab_type": "text"
      },
      "source": [
        "<a href=\"https://colab.research.google.com/github/comeduguy/Python-Example/blob/master/%EC%84%9C%EC%9A%B8%ED%8A%B9%EB%B3%84%EC%8B%9C_%EC%9E%90%EC%B9%98%EA%B5%AC%EB%B3%84_%EB%AF%B8%EC%84%B8%EB%A8%BC%EC%A7%80_%ED%98%84%ED%99%A9_%EC%8B%9C%EA%B0%81%ED%99%94%ED%95%98%EA%B8%B0.ipynb\" target=\"_parent\"><img src=\"https://colab.research.google.com/assets/colab-badge.svg\" alt=\"Open In Colab\"/></a>"
      ]
    },
    {
      "cell_type": "markdown",
      "metadata": {
        "id": "bpR7380xS8bH"
      },
      "source": [
        "# 1. 데이터 준비하기\n",
        "[서울시 권역별 실시간 대기환경 현황](http://data.seoul.go.kr/dataList/OA-2219/S/1/datasetView.do)"
      ]
    },
    {
      "cell_type": "markdown",
      "metadata": {
        "id": "ovm42eMQ3Bif"
      },
      "source": [
        "##가. json 파일 다운로드 및 Colab 업로드\n",
        "- 예시파일은 2021년 3월 30일 12:00 데이터\n",
        "- 파일명을 ori_data.json으로 변경 후 업로드"
      ]
    },
    {
      "cell_type": "code",
      "metadata": {
        "id": "3g5Bpl8oSrZ-"
      },
      "source": [
        "# 파일 업로드하기(json)\n",
        "from google.colab import files\n",
        "uploaded = files.upload()"
      ],
      "execution_count": null,
      "outputs": []
    },
    {
      "cell_type": "markdown",
      "metadata": {
        "id": "1heZAlLic0Cr"
      },
      "source": [
        "##나. JSON 파일 분석\n"
      ]
    },
    {
      "cell_type": "code",
      "metadata": {
        "id": "W48wHK76VrPd"
      },
      "source": [
        "# json 파일을 다루기 위해 json 모듈 import\n",
        "import json"
      ],
      "execution_count": null,
      "outputs": []
    },
    {
      "cell_type": "code",
      "metadata": {
        "id": "p8CaIQW9Zcwe"
      },
      "source": [
        "# 파일 읽기\n",
        "file_json = open('ori_data.json', 'r')\n",
        "\n",
        "data_json = json.load(file_json)"
      ],
      "execution_count": null,
      "outputs": []
    },
    {
      "cell_type": "code",
      "metadata": {
        "id": "XYe5zbrFZxcs"
      },
      "source": [
        "print(data_json)"
      ],
      "execution_count": null,
      "outputs": []
    },
    {
      "cell_type": "code",
      "metadata": {
        "id": "hw3L_FhvZzpM"
      },
      "source": [
        "# 파일 내용 분석\n",
        "print(data_json['DESCRIPTION'])\n",
        "print(data_json['DATA'])"
      ],
      "execution_count": null,
      "outputs": []
    },
    {
      "cell_type": "code",
      "metadata": {
        "id": "GlbCRn-FaCZy"
      },
      "source": [
        "for i in range(len(data_json['DATA'])):\n",
        "    print(data_json['DATA'][i]['msrste_nm'])"
      ],
      "execution_count": null,
      "outputs": []
    },
    {
      "cell_type": "markdown",
      "metadata": {
        "id": "hFovhxMrc_Rv"
      },
      "source": [
        "##다. 미세먼지 딕셔너리 만들기"
      ]
    },
    {
      "cell_type": "code",
      "metadata": {
        "id": "wvc8FGMvadJL"
      },
      "source": [
        "# 자치구별 미세먼지 농도 딕셔너리 생성\n",
        "data = {}\n",
        "\n",
        "N = len(data_json['DATA'])\n",
        "\n",
        "for i in range(N):\n",
        "    data[data_json['DATA'][i]['msrste_nm']] = data_json['DATA'][i]['pm10']\n",
        "\n",
        "print(data)"
      ],
      "execution_count": null,
      "outputs": []
    },
    {
      "cell_type": "code",
      "metadata": {
        "id": "N4vzm5YObJA-"
      },
      "source": [
        "# 자치구를 입력받아 미세먼지 농도 출력\n",
        "NM = input('미세먼지를 출력하려는 구 이름을 입력하세요.: ')\n",
        "\n",
        "print(data[NM])"
      ],
      "execution_count": null,
      "outputs": []
    },
    {
      "cell_type": "code",
      "metadata": {
        "id": "UZZlOhHNcHxJ"
      },
      "source": [
        "# 구명 변경위한 csv 활용 위해 csv 모듈 import\n",
        "import csv"
      ],
      "execution_count": null,
      "outputs": []
    },
    {
      "cell_type": "markdown",
      "metadata": {
        "id": "rpZB-PRjgkVy"
      },
      "source": [
        "- 구명 영문-한글 저장 파일 [gu.csv](https://drive.google.com/file/d/1U9dm46JQ6YlLdLslW63gttMCqIOMgeEt/view?usp=sharing)\n",
        "- 파일 다운로드 후 Colab 업로드"
      ]
    },
    {
      "cell_type": "code",
      "metadata": {
        "id": "3-2VtJFzgNh-"
      },
      "source": [
        "# 자치구명 영어 매칭을 위해 파일 읽어오기\n",
        "file_csv = open('gu.csv', 'r', encoding='utf-8')\n",
        "\n",
        "gu_data = csv.reader(file_csv)"
      ],
      "execution_count": null,
      "outputs": []
    },
    {
      "cell_type": "code",
      "metadata": {
        "id": "_VK6o4klh25L"
      },
      "source": [
        "# 구별 영문명과 미세먼지 농도를 새로운 딕셔너리로 생성\n",
        "data_en = {}\n",
        "\n",
        "for row in gu_data:\n",
        "    if row[0] == '\\ufeffJongno-gu':\n",
        "        data_en['Jongno-gu'] = data[row[1]]\n",
        "    elif row[0] == 'Yeongdeungpo-gu':\n",
        "        data_en['Yeongdeungpo-gu_1_'] = data[row[1]]\n",
        "    else:\n",
        "        data_en[row[0]] = data[row[1]]\n",
        "\n",
        "print(data_en)"
      ],
      "execution_count": null,
      "outputs": []
    },
    {
      "cell_type": "markdown",
      "metadata": {
        "id": "0e4AO7_qnNK-"
      },
      "source": [
        "#2. 데이터 시각화 1 - SVG"
      ]
    },
    {
      "cell_type": "markdown",
      "metadata": {
        "id": "Kj6DwWnWWE50"
      },
      "source": [
        "##가. SVG 파일을 활용한 데이터 시각화"
      ]
    },
    {
      "cell_type": "code",
      "metadata": {
        "id": "pm2hZ5Klkm8w"
      },
      "source": [
        "# svg 파일을 변경하기 위해 Beautifulsoup 모듈 import\n",
        "from bs4 import BeautifulSoup"
      ],
      "execution_count": null,
      "outputs": []
    },
    {
      "cell_type": "code",
      "metadata": {
        "id": "185E4ZlmnM3I"
      },
      "source": [
        "# BeautifulSoup을 이용하여 SVG 파일을 HTML 형태로 변환\n",
        "file_svg = open('Seoul_districts.svg', 'r')\n",
        "\n",
        "data_soup = BeautifulSoup(file_svg.read(), 'html.parser')\n",
        "\n",
        "print(data_soup)"
      ],
      "execution_count": null,
      "outputs": []
    },
    {
      "cell_type": "code",
      "metadata": {
        "id": "QhV33sxfrvvQ"
      },
      "source": [
        "# 자치구 채우기 색상 변경 테스트\n",
        "for row in data_soup.find_all('path'):\n",
        "    row['fill'] = \"#abcdef\"\n",
        "\n",
        "print(data_soup)"
      ],
      "execution_count": null,
      "outputs": []
    },
    {
      "cell_type": "code",
      "metadata": {
        "id": "Cl13cHqVakaT"
      },
      "source": [
        "# 색상 변경한 결과를 HTML 파일로 저장\n",
        "file_html = open('result.html', 'w')\n",
        "file_html.write(data_soup.prettify())\n",
        "file_html.close()"
      ],
      "execution_count": null,
      "outputs": []
    },
    {
      "cell_type": "markdown",
      "metadata": {
        "id": "0ASVHXY_VxbV"
      },
      "source": [
        "- 미세먼지 농도별로 색상을 구분하여 적용\n",
        "- [ColorBrewer 2.0](https://colorbrewer2.org/#type=sequential&scheme=BuGn&n=3)"
      ]
    },
    {
      "cell_type": "code",
      "metadata": {
        "id": "3QlGC6KVu5PT"
      },
      "source": [
        "# ['#fef0d9','#fdcc8a','#fc8d59','#d7301f'] 좋음 -> 매우 나쁨\n",
        "color = ['#fef0d9','#fdcc8a','#fc8d59','#d7301f']\n",
        "for row in data_soup.find_all('path'):\n",
        "    if int(data_en[row['id']]) >= 150:\n",
        "        gr = 3\n",
        "    elif int(data_en[row['id']]) >= 80:\n",
        "        gr = 2\n",
        "    elif int(data_en[row['id']]) >= 30:\n",
        "        gr = 1\n",
        "    else:\n",
        "        gr = 0\n",
        "    row['fill'] = color[gr]\n",
        "\n",
        "file_html = open('result.html', 'w')\n",
        "file_html.write(data_soup.prettify())\n",
        "file_html.close()"
      ],
      "execution_count": null,
      "outputs": []
    },
    {
      "cell_type": "markdown",
      "metadata": {
        "id": "VQMft2BwqDq4"
      },
      "source": [
        "##나. OpenAPI를 활용한 실시간 정보 조회"
      ]
    },
    {
      "cell_type": "code",
      "metadata": {
        "id": "NTI3c3kOXOBF"
      },
      "source": [
        "# 실시간으로 정보를 조회하기 위해 requests 모듈 import\n",
        "import requests"
      ],
      "execution_count": null,
      "outputs": []
    },
    {
      "cell_type": "code",
      "metadata": {
        "id": "GPHivJqyssLY"
      },
      "source": [
        "# 실시간 정보 조회 결과를 BeautifulSoup으로 HTML 형식으로 변환\n",
        "url = 'http://openAPI.seoul.go.kr:8088/6270756b78636f6d3535466a6a4e50/xml/RealtimeCityAir/1/25/'\n",
        "\n",
        "data_response = requests.get(url)\n",
        "\n",
        "data_soup = BeautifulSoup(data_response.content, 'html.parser')\n",
        "\n",
        "print(data_soup)"
      ],
      "execution_count": null,
      "outputs": []
    },
    {
      "cell_type": "code",
      "metadata": {
        "id": "OvS2yNGTt2oy"
      },
      "source": [
        "# 자치구명과 미세먼지 농도 값으로 data 딕셔너리 생성\n",
        "PM10 = data_soup.find_all('pm10')\n",
        "MSRSTE_NM = data_soup.find_all('msrste_nm')\n",
        "\n",
        "data = {}\n",
        "\n",
        "for i in range(len(PM10)):\n",
        "    data[MSRSTE_NM[i].text] = int(PM10[i].text)\n",
        "    print(MSRSTE_NM[i].text, data[MSRSTE_NM[i].text])"
      ],
      "execution_count": null,
      "outputs": []
    },
    {
      "cell_type": "code",
      "metadata": {
        "id": "MP-G2qP7vvif"
      },
      "source": [
        "# 구별 영문명과 미세먼지 농도를 새로운 data_en 딕셔너리로 생성\n",
        "data_en = {}\n",
        "\n",
        "for row in gu_data:\n",
        "    if row[0] == '\\ufeffJongno-gu':\n",
        "        data_en['Jongno-gu'] = data[row[1]]\n",
        "    elif row[0] == 'Yeongdeungpo-gu':\n",
        "        data_en['Yeongdeungpo-gu_1_'] = data[row[1]]\n",
        "    else:\n",
        "        data_en[row[0]] = data[row[1]]\n",
        "\n",
        "print(data_en)"
      ],
      "execution_count": null,
      "outputs": []
    },
    {
      "cell_type": "code",
      "metadata": {
        "id": "9rOBeQcH1Bew"
      },
      "source": [
        "# ['#fef0d9','#fdcc8a','#fc8d59','#d7301f'] 좋음 -> 매우 나쁨\n",
        "color = ['#fef0d9','#fdcc8a','#fc8d59','#d7301f']\n",
        "\n",
        "# BeautifulSoup을 이용하여 SVG 파일을 HTML 형태로 변환\n",
        "file_svg = open('Seoul_districts.svg', 'r')\n",
        "\n",
        "data_soup = BeautifulSoup(file_svg.read(), 'html.parser')\n",
        "\n",
        "for row in data_soup.find_all('path'):\n",
        "    if int(data_en[row['id']]) >= 150:\n",
        "        gr = 3\n",
        "    elif int(data_en[row['id']]) >= 80:\n",
        "        gr = 2\n",
        "    elif int(data_en[row['id']]) >= 30:\n",
        "        gr = 1\n",
        "    else:\n",
        "        gr = 0\n",
        "    row['fill'] = color[gr]\n",
        "\n",
        "file_html = open('result.html', 'w')\n",
        "file_html.write(data_soup.prettify())\n",
        "file_html.close()"
      ],
      "execution_count": null,
      "outputs": []
    },
    {
      "cell_type": "markdown",
      "metadata": {
        "id": "JW3aIbLrnkKl"
      },
      "source": [
        "# 3. 데이터 시각화2 - Folium"
      ]
    },
    {
      "cell_type": "code",
      "metadata": {
        "id": "l7_Mn7s1ntZE"
      },
      "source": [
        "import folium"
      ],
      "execution_count": 1,
      "outputs": []
    },
    {
      "cell_type": "code",
      "metadata": {
        "colab": {
          "base_uri": "https://localhost:8080/",
          "height": 885
        },
        "id": "YN_Nq8BIFNDL",
        "outputId": "0d7e27ba-c1bf-4590-c77b-90b2bd9ed434"
      },
      "source": [
        "ori_loc = [37.5744458740, 126.9094147806]\n",
        "TILES = 'OpenStreetMap'\n",
        "# “Mapbox Bright” (Limited levels of zoom for free tiles)\n",
        "# “Mapbox Control Room” (Limited levels of zoom for free tiles)\n",
        "# “Stamen” (Terrain, Toner, and Watercolor)\n",
        "# “Cloudmade” (Must pass API key)\n",
        "# “Mapbox” (Must pass API key)\n",
        "# “CartoDB” (positron and dark_matter)\n",
        "\n",
        "m = folium.Map(ori_loc, tiles=TILES, width=640, height=480, zoom_start= 15)\n",
        "\n",
        "m"
      ],
      "execution_count": 40,
      "outputs": [
        {
          "output_type": "execute_result",
          "data": {
            "text/html": [
              "<div style=\"width:100%;\"><div style=\"position:relative;width:100%;height:0;padding-bottom:60%;\"><span style=\"color:#565656\">Make this Notebook Trusted to load map: File -> Trust Notebook</span><iframe src=\"about:blank\" style=\"position:absolute;width:100%;height:100%;left:0;top:0;border:none !important;\" data-html=%3C%21DOCTYPE%20html%3E%0A%3Chead%3E%20%20%20%20%0A%20%20%20%20%3Cmeta%20http-equiv%3D%22content-type%22%20content%3D%22text/html%3B%20charset%3DUTF-8%22%20/%3E%0A%20%20%20%20%3Cscript%3EL_PREFER_CANVAS%3Dfalse%3B%20L_NO_TOUCH%3Dfalse%3B%20L_DISABLE_3D%3Dfalse%3B%3C/script%3E%0A%20%20%20%20%3Cscript%20src%3D%22https%3A//cdn.jsdelivr.net/npm/leaflet%401.4.0/dist/leaflet.js%22%3E%3C/script%3E%0A%20%20%20%20%3Cscript%20src%3D%22https%3A//code.jquery.com/jquery-1.12.4.min.js%22%3E%3C/script%3E%0A%20%20%20%20%3Cscript%20src%3D%22https%3A//maxcdn.bootstrapcdn.com/bootstrap/3.2.0/js/bootstrap.min.js%22%3E%3C/script%3E%0A%20%20%20%20%3Cscript%20src%3D%22https%3A//cdnjs.cloudflare.com/ajax/libs/Leaflet.awesome-markers/2.0.2/leaflet.awesome-markers.js%22%3E%3C/script%3E%0A%20%20%20%20%3Clink%20rel%3D%22stylesheet%22%20href%3D%22https%3A//cdn.jsdelivr.net/npm/leaflet%401.4.0/dist/leaflet.css%22/%3E%0A%20%20%20%20%3Clink%20rel%3D%22stylesheet%22%20href%3D%22https%3A//maxcdn.bootstrapcdn.com/bootstrap/3.2.0/css/bootstrap.min.css%22/%3E%0A%20%20%20%20%3Clink%20rel%3D%22stylesheet%22%20href%3D%22https%3A//maxcdn.bootstrapcdn.com/bootstrap/3.2.0/css/bootstrap-theme.min.css%22/%3E%0A%20%20%20%20%3Clink%20rel%3D%22stylesheet%22%20href%3D%22https%3A//maxcdn.bootstrapcdn.com/font-awesome/4.6.3/css/font-awesome.min.css%22/%3E%0A%20%20%20%20%3Clink%20rel%3D%22stylesheet%22%20href%3D%22https%3A//cdnjs.cloudflare.com/ajax/libs/Leaflet.awesome-markers/2.0.2/leaflet.awesome-markers.css%22/%3E%0A%20%20%20%20%3Clink%20rel%3D%22stylesheet%22%20href%3D%22https%3A//rawcdn.githack.com/python-visualization/folium/master/folium/templates/leaflet.awesome.rotate.css%22/%3E%0A%20%20%20%20%3Cstyle%3Ehtml%2C%20body%20%7Bwidth%3A%20100%25%3Bheight%3A%20100%25%3Bmargin%3A%200%3Bpadding%3A%200%3B%7D%3C/style%3E%0A%20%20%20%20%3Cstyle%3E%23map%20%7Bposition%3Aabsolute%3Btop%3A0%3Bbottom%3A0%3Bright%3A0%3Bleft%3A0%3B%7D%3C/style%3E%0A%20%20%20%20%0A%20%20%20%20%3Cmeta%20name%3D%22viewport%22%20content%3D%22width%3Ddevice-width%2C%0A%20%20%20%20%20%20%20%20initial-scale%3D1.0%2C%20maximum-scale%3D1.0%2C%20user-scalable%3Dno%22%20/%3E%0A%20%20%20%20%3Cstyle%3E%23map_e6ae45813e3344edacdfad39b6a465f7%20%7B%0A%20%20%20%20%20%20%20%20position%3A%20relative%3B%0A%20%20%20%20%20%20%20%20width%3A%20640.0px%3B%0A%20%20%20%20%20%20%20%20height%3A%20480.0px%3B%0A%20%20%20%20%20%20%20%20left%3A%200.0%25%3B%0A%20%20%20%20%20%20%20%20top%3A%200.0%25%3B%0A%20%20%20%20%20%20%20%20%7D%0A%20%20%20%20%3C/style%3E%0A%3C/head%3E%0A%3Cbody%3E%20%20%20%20%0A%20%20%20%20%0A%20%20%20%20%3Cdiv%20class%3D%22folium-map%22%20id%3D%22map_e6ae45813e3344edacdfad39b6a465f7%22%20%3E%3C/div%3E%0A%3C/body%3E%0A%3Cscript%3E%20%20%20%20%0A%20%20%20%20%0A%20%20%20%20%0A%20%20%20%20%20%20%20%20var%20bounds%20%3D%20null%3B%0A%20%20%20%20%0A%0A%20%20%20%20var%20map_e6ae45813e3344edacdfad39b6a465f7%20%3D%20L.map%28%0A%20%20%20%20%20%20%20%20%27map_e6ae45813e3344edacdfad39b6a465f7%27%2C%20%7B%0A%20%20%20%20%20%20%20%20center%3A%20%5B37.574445874%2C%20126.9094147806%5D%2C%0A%20%20%20%20%20%20%20%20zoom%3A%2015%2C%0A%20%20%20%20%20%20%20%20maxBounds%3A%20bounds%2C%0A%20%20%20%20%20%20%20%20layers%3A%20%5B%5D%2C%0A%20%20%20%20%20%20%20%20worldCopyJump%3A%20false%2C%0A%20%20%20%20%20%20%20%20crs%3A%20L.CRS.EPSG3857%2C%0A%20%20%20%20%20%20%20%20zoomControl%3A%20true%2C%0A%20%20%20%20%20%20%20%20%7D%29%3B%0A%0A%0A%20%20%20%20%0A%20%20%20%20var%20tile_layer_9cb4789db4e64adf9d98c32456999fa1%20%3D%20L.tileLayer%28%0A%20%20%20%20%20%20%20%20%27https%3A//%7Bs%7D.tile.openstreetmap.org/%7Bz%7D/%7Bx%7D/%7By%7D.png%27%2C%0A%20%20%20%20%20%20%20%20%7B%0A%20%20%20%20%20%20%20%20%22attribution%22%3A%20null%2C%0A%20%20%20%20%20%20%20%20%22detectRetina%22%3A%20false%2C%0A%20%20%20%20%20%20%20%20%22maxNativeZoom%22%3A%2018%2C%0A%20%20%20%20%20%20%20%20%22maxZoom%22%3A%2018%2C%0A%20%20%20%20%20%20%20%20%22minZoom%22%3A%200%2C%0A%20%20%20%20%20%20%20%20%22noWrap%22%3A%20false%2C%0A%20%20%20%20%20%20%20%20%22opacity%22%3A%201%2C%0A%20%20%20%20%20%20%20%20%22subdomains%22%3A%20%22abc%22%2C%0A%20%20%20%20%20%20%20%20%22tms%22%3A%20false%0A%7D%29.addTo%28map_e6ae45813e3344edacdfad39b6a465f7%29%3B%0A%3C/script%3E onload=\"this.contentDocument.open();this.contentDocument.write(    decodeURIComponent(this.getAttribute('data-html')));this.contentDocument.close();\" allowfullscreen webkitallowfullscreen mozallowfullscreen></iframe></div></div>"
            ],
            "text/plain": [
              "<folium.folium.Map at 0x7fdf5c8f6dd0>"
            ]
          },
          "metadata": {
            "tags": []
          },
          "execution_count": 40
        }
      ]
    },
    {
      "cell_type": "code",
      "metadata": {
        "id": "Hez_v359KwRm"
      },
      "source": [
        "# "
      ],
      "execution_count": null,
      "outputs": []
    }
  ]
}